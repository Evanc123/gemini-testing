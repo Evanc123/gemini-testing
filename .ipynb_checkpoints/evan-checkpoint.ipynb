{
 "cells": [
  {
   "cell_type": "code",
   "execution_count": 1,
   "id": "5562a36d-697a-4b04-aff1-a382f74e0701",
   "metadata": {},
   "outputs": [
    {
     "name": "stdout",
     "output_type": "stream",
     "text": [
      "\n",
      "\u001b[1m[\u001b[0m\u001b[34;49mnotice\u001b[0m\u001b[1;39;49m]\u001b[0m\u001b[39;49m A new release of pip is available: \u001b[0m\u001b[31;49m24.0\u001b[0m\u001b[39;49m -> \u001b[0m\u001b[32;49m24.3.1\u001b[0m\n",
      "\u001b[1m[\u001b[0m\u001b[34;49mnotice\u001b[0m\u001b[1;39;49m]\u001b[0m\u001b[39;49m To update, run: \u001b[0m\u001b[32;49mpip install --upgrade pip\u001b[0m\n",
      "\u001b[33mWarning:\u001b[0m poppler 24.11.0 is already installed and up-to-date.\n",
      "To reinstall 24.11.0, run:\n",
      "  brew reinstall poppler\n",
      "Requirement already satisfied: pandas in /Users/evancater/.pyenv/versions/3.11.4/lib/python3.11/site-packages (2.2.3)\n",
      "Requirement already satisfied: numpy>=1.23.2 in /Users/evancater/.pyenv/versions/3.11.4/lib/python3.11/site-packages (from pandas) (2.1.3)\n",
      "Requirement already satisfied: python-dateutil>=2.8.2 in /Users/evancater/.pyenv/versions/3.11.4/lib/python3.11/site-packages (from pandas) (2.9.0.post0)\n",
      "Requirement already satisfied: pytz>=2020.1 in /Users/evancater/.pyenv/versions/3.11.4/lib/python3.11/site-packages (from pandas) (2024.2)\n",
      "Requirement already satisfied: tzdata>=2022.7 in /Users/evancater/.pyenv/versions/3.11.4/lib/python3.11/site-packages (from pandas) (2024.2)\n",
      "Requirement already satisfied: six>=1.5 in /Users/evancater/.pyenv/versions/3.11.4/lib/python3.11/site-packages (from python-dateutil>=2.8.2->pandas) (1.16.0)\n",
      "\n",
      "\u001b[1m[\u001b[0m\u001b[34;49mnotice\u001b[0m\u001b[1;39;49m]\u001b[0m\u001b[39;49m A new release of pip is available: \u001b[0m\u001b[31;49m24.0\u001b[0m\u001b[39;49m -> \u001b[0m\u001b[32;49m24.3.1\u001b[0m\n",
      "\u001b[1m[\u001b[0m\u001b[34;49mnotice\u001b[0m\u001b[1;39;49m]\u001b[0m\u001b[39;49m To update, run: \u001b[0m\u001b[32;49mpip install --upgrade pip\u001b[0m\n",
      "Requirement already satisfied: pdf2image in /Users/evancater/.pyenv/versions/3.11.4/lib/python3.11/site-packages (1.17.0)\n",
      "Requirement already satisfied: pillow in /Users/evancater/.pyenv/versions/3.11.4/lib/python3.11/site-packages (from pdf2image) (11.0.0)\n",
      "\n",
      "\u001b[1m[\u001b[0m\u001b[34;49mnotice\u001b[0m\u001b[1;39;49m]\u001b[0m\u001b[39;49m A new release of pip is available: \u001b[0m\u001b[31;49m24.0\u001b[0m\u001b[39;49m -> \u001b[0m\u001b[32;49m24.3.1\u001b[0m\n",
      "\u001b[1m[\u001b[0m\u001b[34;49mnotice\u001b[0m\u001b[1;39;49m]\u001b[0m\u001b[39;49m To update, run: \u001b[0m\u001b[32;49mpip install --upgrade pip\u001b[0m\n"
     ]
    }
   ],
   "source": [
    "# Installations\n",
    "!pip install -q google-generativeai\n",
    "!brew install poppler\n",
    "!pip install pandas\n",
    "!pip install pdf2image"
   ]
  },
  {
   "cell_type": "code",
   "execution_count": 2,
   "id": "3154db57-10a2-43cc-b178-c4994f3e11bf",
   "metadata": {},
   "outputs": [],
   "source": [
    "import google.generativeai as genai\n",
    "from google.generativeai import caching\n",
    "from pdf2image import convert_from_path\n",
    "import tempfile\n",
    "import datetime\n",
    "import time\n",
    "import pandas as pd\n",
    "import typing_extensions as typing\n",
    "from typing import Literal"
   ]
  },
  {
   "cell_type": "code",
   "execution_count": 3,
   "id": "eac83e1e-1146-4f31-92df-60fd14c585fb",
   "metadata": {},
   "outputs": [],
   "source": [
    "# Defining structured output\n",
    "class InformationSegment(typing.TypedDict):\n",
    "    contributing_information: str\n",
    "    contributing_information_type: Literal[\"text\", \"diagram\", \"table\"]\n",
    "\n",
    "class Page(typing.TypedDict):\n",
    "    manual_page_num: str\n",
    "    information_segements: list[InformationSegment]\n",
    "    \n",
    "class Response(typing.TypedDict):\n",
    "    relevant_pages: list[Page]\n",
    "    query_answer: str    "
   ]
  },
  {
   "cell_type": "code",
   "execution_count": 4,
   "id": "9f728c53-7aba-465a-a4ed-e96d791cc55c",
   "metadata": {},
   "outputs": [
    {
     "ename": "NameError",
     "evalue": "name 'UserSecretsClient' is not defined",
     "output_type": "error",
     "traceback": [
      "\u001b[0;31m---------------------------------------------------------------------------\u001b[0m",
      "\u001b[0;31mNameError\u001b[0m                                 Traceback (most recent call last)",
      "Cell \u001b[0;32mIn[4], line 2\u001b[0m\n\u001b[1;32m      1\u001b[0m \u001b[38;5;66;03m# Configure API keys\u001b[39;00m\n\u001b[0;32m----> 2\u001b[0m user_secrets \u001b[38;5;241m=\u001b[39m \u001b[43mUserSecretsClient\u001b[49m()\n\u001b[1;32m      3\u001b[0m api_key \u001b[38;5;241m=\u001b[39m user_secrets\u001b[38;5;241m.\u001b[39mget_secret(\u001b[38;5;124m\"\u001b[39m\u001b[38;5;124mGOOGLE_API_KEY\u001b[39m\u001b[38;5;124m\"\u001b[39m)\n\u001b[1;32m      4\u001b[0m genai\u001b[38;5;241m.\u001b[39mconfigure(api_key\u001b[38;5;241m=\u001b[39mapi_key)\n",
      "\u001b[0;31mNameError\u001b[0m: name 'UserSecretsClient' is not defined"
     ]
    }
   ],
   "source": [
    "import os\n",
    "# Fetch the GOOGLE_API_KEY from environment variables\n",
    "google_api_key = os.getenv('GOOGLE_API_KEY')\n",
    "\n",
    "genai.configure(api_key=api_key)"
   ]
  },
  {
   "cell_type": "code",
   "execution_count": null,
   "id": "d9f1d6a9-5443-4dd4-9dbd-efd29981dc4a",
   "metadata": {},
   "outputs": [],
   "source": [
    "pdf_path = './manual_130.pdf'\n",
    "pages = convert_from_path(pdf_path)\n",
    "print(pages)"
   ]
  }
 ],
 "metadata": {
  "kernelspec": {
   "display_name": "Python 3 (ipykernel)",
   "language": "python",
   "name": "python3"
  },
  "language_info": {
   "codemirror_mode": {
    "name": "ipython",
    "version": 3
   },
   "file_extension": ".py",
   "mimetype": "text/x-python",
   "name": "python",
   "nbconvert_exporter": "python",
   "pygments_lexer": "ipython3",
   "version": "3.11.4"
  }
 },
 "nbformat": 4,
 "nbformat_minor": 5
}
